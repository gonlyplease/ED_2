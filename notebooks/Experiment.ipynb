{
 "cells": [
  {
   "cell_type": "code",
   "execution_count": 14,
   "metadata": {},
   "outputs": [],
   "source": [
    "# Experiment Reproduction Notebook\n",
    "\n",
    "import os\n",
    "import numpy as np\n",
    "import pandas as pd\n",
    "from sklearn.linear_model import LogisticRegression\n",
    "from sklearn.metrics import precision_score, recall_score, f1_score\n",
    "from transformers import DistilBertTokenizer, DistilBertForSequenceClassification\n",
    "from transformers import Trainer, TrainingArguments\n",
    "import torch\n",
    "\n",
    "# Set random seed for reproducibility\n",
    "SEED = 42\n",
    "np.random.seed(SEED)\n",
    "torch.manual_seed(SEED)\n",
    "\n",
    "# Configurations\n",
    "DATA_DIR = \"./data\"\n",
    "MODEL_DIR = \"./models\"\n",
    "RESULTS_DIR = \"./results\"\n",
    "os.makedirs(DATA_DIR, exist_ok=True)\n",
    "os.makedirs(MODEL_DIR, exist_ok=True)\n",
    "os.makedirs(RESULTS_DIR, exist_ok=True)\n"
   ]
  },
  {
   "cell_type": "code",
   "execution_count": 6,
   "metadata": {},
   "outputs": [],
   "source": [
    "# Function for downloading or loading datasets\n",
    "def load_datasets():\n",
    "    \"\"\"\n",
    "    Load or download datasets.\n",
    "    Ensure compliance with licensing for the datasets (OHSUMED and Avocado).\n",
    "    \"\"\"\n",
    "    # Placeholder for dataset loading logic\n",
    "    print(\"Load your datasets here. Ensure you have the necessary permissions.\")\n",
    "    return None, None"
   ]
  },
  {
   "cell_type": "code",
   "execution_count": 7,
   "metadata": {},
   "outputs": [
    {
     "name": "stdout",
     "output_type": "stream",
     "text": [
      "Load your datasets here. Ensure you have the necessary permissions.\n"
     ]
    }
   ],
   "source": [
    "# Load datasets\n",
    "ohsumed_data, avocado_data = load_datasets()"
   ]
  },
  {
   "cell_type": "code",
   "execution_count": 8,
   "metadata": {},
   "outputs": [],
   "source": [
    "\n",
    "\n",
    "## Data Preprocessing\n",
    "\n",
    "def preprocess_ohsumed(data):\n",
    "    \"\"\"\n",
    "    Preprocess OHSUMED dataset.\n",
    "    \"\"\"\n",
    "    print(\"Preprocessing OHSUMED data...\")\n",
    "    # Implement data preprocessing\n",
    "    return data"
   ]
  },
  {
   "cell_type": "code",
   "execution_count": 10,
   "metadata": {},
   "outputs": [
    {
     "name": "stdout",
     "output_type": "stream",
     "text": [
      "Preprocessing OHSUMED data...\n",
      "Preprocessing Avocado data...\n"
     ]
    }
   ],
   "source": [
    "def preprocess_avocado(data):\n",
    "    \"\"\"\n",
    "    Preprocess Avocado dataset.\n",
    "    \"\"\"\n",
    "    print(\"Preprocessing Avocado data...\")\n",
    "    # Implement data preprocessing\n",
    "    return data\n",
    "\n",
    "# Preprocess datasets\n",
    "ohsumed_data = preprocess_ohsumed(ohsumed_data)\n",
    "avocado_data = preprocess_avocado(avocado_data)\n"
   ]
  },
  {
   "cell_type": "code",
   "execution_count": 12,
   "metadata": {},
   "outputs": [
    {
     "name": "stdout",
     "output_type": "stream",
     "text": [
      "Training Logistic Regression model...\n"
     ]
    }
   ],
   "source": [
    "## Logistic Regression Model\n",
    "\n",
    "def train_logistic_regression(data):\n",
    "    \"\"\"\n",
    "    Train Logistic Regression model on the dataset.\n",
    "    \"\"\"\n",
    "    print(\"Training Logistic Regression model...\")\n",
    "    model = LogisticRegression()\n",
    "    # Train and validate model\n",
    "    return model\n",
    "\n",
    "lr_model = train_logistic_regression(ohsumed_data)\n"
   ]
  },
  {
   "cell_type": "code",
   "execution_count": 15,
   "metadata": {},
   "outputs": [
    {
     "name": "stdout",
     "output_type": "stream",
     "text": [
      "Fine-tuning DistilBERT...\n"
     ]
    },
    {
     "name": "stderr",
     "output_type": "stream",
     "text": [
      "Some weights of DistilBertForSequenceClassification were not initialized from the model checkpoint at distilbert-base-uncased and are newly initialized: ['classifier.bias', 'classifier.weight', 'pre_classifier.bias', 'pre_classifier.weight']\n",
      "You should probably TRAIN this model on a down-stream task to be able to use it for predictions and inference.\n"
     ]
    },
    {
     "ename": "NameError",
     "evalue": "name 'Dataset' is not defined",
     "output_type": "error",
     "traceback": [
      "\u001b[0;31m---------------------------------------------------------------------------\u001b[0m",
      "\u001b[0;31mNameError\u001b[0m                                 Traceback (most recent call last)",
      "Cell \u001b[0;32mIn[15], line 31\u001b[0m\n\u001b[1;32m     28\u001b[0m     trainer\u001b[38;5;241m.\u001b[39mtrain()\n\u001b[1;32m     29\u001b[0m     \u001b[38;5;28;01mreturn\u001b[39;00m model\n\u001b[0;32m---> 31\u001b[0m distilbert_model \u001b[38;5;241m=\u001b[39m \u001b[43mtrain_distilbert\u001b[49m\u001b[43m(\u001b[49m\u001b[43mohsumed_data\u001b[49m\u001b[43m)\u001b[49m\n",
      "Cell \u001b[0;32mIn[15], line 14\u001b[0m, in \u001b[0;36mtrain_distilbert\u001b[0;34m(data)\u001b[0m\n\u001b[1;32m      9\u001b[0m model \u001b[38;5;241m=\u001b[39m DistilBertForSequenceClassification\u001b[38;5;241m.\u001b[39mfrom_pretrained(\n\u001b[1;32m     10\u001b[0m     \u001b[38;5;124m\"\u001b[39m\u001b[38;5;124mdistilbert-base-uncased\u001b[39m\u001b[38;5;124m\"\u001b[39m, num_labels\u001b[38;5;241m=\u001b[39m\u001b[38;5;241m2\u001b[39m\n\u001b[1;32m     11\u001b[0m )\n\u001b[1;32m     13\u001b[0m \u001b[38;5;66;03m# Tokenize data\u001b[39;00m\n\u001b[0;32m---> 14\u001b[0m dataset \u001b[38;5;241m=\u001b[39m \u001b[43mDataset\u001b[49m\u001b[38;5;241m.\u001b[39mfrom_pandas(data)\n\u001b[1;32m     15\u001b[0m \u001b[38;5;28;01mdef\u001b[39;00m \u001b[38;5;21mtokenize_function\u001b[39m(example):\n\u001b[1;32m     16\u001b[0m     \u001b[38;5;28;01mreturn\u001b[39;00m tokenizer(example[\u001b[38;5;124m\"\u001b[39m\u001b[38;5;124mtext\u001b[39m\u001b[38;5;124m\"\u001b[39m], padding\u001b[38;5;241m=\u001b[39m\u001b[38;5;124m\"\u001b[39m\u001b[38;5;124mmax_length\u001b[39m\u001b[38;5;124m\"\u001b[39m, truncation\u001b[38;5;241m=\u001b[39m\u001b[38;5;28;01mTrue\u001b[39;00m)\n",
      "\u001b[0;31mNameError\u001b[0m: name 'Dataset' is not defined"
     ]
    }
   ],
   "source": [
    "## DistilBERT Model\n",
    "\n",
    "def train_distilbert(data):\n",
    "    \"\"\"\n",
    "    Fine-tune DistilBERT for sensitivity classification.\n",
    "    \"\"\"\n",
    "    print(\"Fine-tuning DistilBERT...\")\n",
    "    tokenizer = DistilBertTokenizer.from_pretrained(\"distilbert-base-uncased\")\n",
    "    model = DistilBertForSequenceClassification.from_pretrained(\n",
    "        \"distilbert-base-uncased\", num_labels=2\n",
    "    )\n",
    "\n",
    "    # Tokenize data\n",
    "    dataset = Dataset.from_pandas(data)\n",
    "    def tokenize_function(example):\n",
    "        return tokenizer(example[\"text\"], padding=\"max_length\", truncation=True)\n",
    "    tokenized_datasets = dataset.map(tokenize_function, batched=True)\n",
    "\n",
    "    # Fine-tune model\n",
    "    training_args = TrainingArguments(\n",
    "        output_dir=\"./results\", evaluation_strategy=\"epoch\", num_train_epochs=3,\n",
    "        per_device_train_batch_size=8, save_steps=10_000, save_total_limit=2\n",
    "    )\n",
    "    trainer = Trainer(\n",
    "        model=model, args=training_args, train_dataset=tokenized_datasets[:80],\n",
    "        eval_dataset=tokenized_datasets[80:]\n",
    "    )\n",
    "    trainer.train()\n",
    "    return model\n",
    "\n",
    "distilbert_model = train_distilbert(ohsumed_data)"
   ]
  },
  {
   "cell_type": "code",
   "execution_count": 16,
   "metadata": {},
   "outputs": [
    {
     "ename": "NameError",
     "evalue": "name 'distilbert_model' is not defined",
     "output_type": "error",
     "traceback": [
      "\u001b[0;31m---------------------------------------------------------------------------\u001b[0m",
      "\u001b[0;31mNameError\u001b[0m                                 Traceback (most recent call last)",
      "Cell \u001b[0;32mIn[16], line 11\u001b[0m\n\u001b[1;32m      8\u001b[0m     \u001b[38;5;66;03m# Placeholder for combination logic\u001b[39;00m\n\u001b[1;32m      9\u001b[0m     \u001b[38;5;28;01mreturn\u001b[39;00m \u001b[38;5;28;01mNone\u001b[39;00m\n\u001b[0;32m---> 11\u001b[0m combined_model \u001b[38;5;241m=\u001b[39m combine_models(lr_model, \u001b[43mdistilbert_model\u001b[49m)\n\u001b[1;32m     15\u001b[0m \u001b[38;5;66;03m# Save results\u001b[39;00m\n\u001b[1;32m     16\u001b[0m results_path \u001b[38;5;241m=\u001b[39m os\u001b[38;5;241m.\u001b[39mpath\u001b[38;5;241m.\u001b[39mjoin(RESULTS_DIR, \u001b[38;5;124m\"\u001b[39m\u001b[38;5;124mresults.json\u001b[39m\u001b[38;5;124m\"\u001b[39m)\n",
      "\u001b[0;31mNameError\u001b[0m: name 'distilbert_model' is not defined"
     ]
    }
   ],
   "source": [
    "## Combined Model\n",
    "\n",
    "def combine_models(lr_model, distilbert_model):\n",
    "    \"\"\"\n",
    "    Combine Logistic Regression and DistilBERT models.\n",
    "    \"\"\"\n",
    "    print(\"Combining Logistic Regression and DistilBERT models...\")\n",
    "    # Placeholder for combination logic\n",
    "    return None\n",
    "\n",
    "combined_model = combine_models(lr_model, distilbert_model)\n",
    "\n",
    "\n",
    "\n",
    "\n"
   ]
  },
  {
   "cell_type": "code",
   "execution_count": 18,
   "metadata": {},
   "outputs": [
    {
     "ename": "NameError",
     "evalue": "name 'distilbert_model' is not defined",
     "output_type": "error",
     "traceback": [
      "\u001b[0;31m---------------------------------------------------------------------------\u001b[0m",
      "\u001b[0;31mNameError\u001b[0m                                 Traceback (most recent call last)",
      "Cell \u001b[0;32mIn[18], line 13\u001b[0m\n\u001b[1;32m      8\u001b[0m         \u001b[38;5;28mprint\u001b[39m(\u001b[38;5;124mf\u001b[39m\u001b[38;5;124m\"\u001b[39m\u001b[38;5;124mEvaluating \u001b[39m\u001b[38;5;132;01m{\u001b[39;00mname\u001b[38;5;132;01m}\u001b[39;00m\u001b[38;5;124m...\u001b[39m\u001b[38;5;124m\"\u001b[39m)\n\u001b[1;32m      9\u001b[0m         \u001b[38;5;66;03m# Implement evaluation logic\u001b[39;00m\n\u001b[1;32m     11\u001b[0m models \u001b[38;5;241m=\u001b[39m {\n\u001b[1;32m     12\u001b[0m     \u001b[38;5;124m\"\u001b[39m\u001b[38;5;124mLogistic Regression\u001b[39m\u001b[38;5;124m\"\u001b[39m: lr_model,\n\u001b[0;32m---> 13\u001b[0m     \u001b[38;5;124m\"\u001b[39m\u001b[38;5;124mDistilBERT\u001b[39m\u001b[38;5;124m\"\u001b[39m: \u001b[43mdistilbert_model\u001b[49m,\n\u001b[1;32m     14\u001b[0m     \u001b[38;5;124m\"\u001b[39m\u001b[38;5;124mCombined Model\u001b[39m\u001b[38;5;124m\"\u001b[39m: combined_model\n\u001b[1;32m     15\u001b[0m }\n\u001b[1;32m     16\u001b[0m evaluate_models(models, ohsumed_data)\n",
      "\u001b[0;31mNameError\u001b[0m: name 'distilbert_model' is not defined"
     ]
    }
   ],
   "source": [
    "## Evaluation\n",
    "\n",
    "def evaluate_models(models, data):\n",
    "    \"\"\"\n",
    "    Evaluate models on test data.\n",
    "    \"\"\"\n",
    "    for name, model in models.items():\n",
    "        print(f\"Evaluating {name}...\")\n",
    "        # Implement evaluation logic\n",
    "\n",
    "models = {\n",
    "    \"Logistic Regression\": lr_model,\n",
    "    \"DistilBERT\": distilbert_model,\n",
    "    \"Combined Model\": combined_model\n",
    "}\n",
    "evaluate_models(models, ohsumed_data)"
   ]
  },
  {
   "cell_type": "code",
   "execution_count": 19,
   "metadata": {},
   "outputs": [
    {
     "name": "stdout",
     "output_type": "stream",
     "text": [
      "Results saved to ./results/results.json\n"
     ]
    }
   ],
   "source": [
    "# Save results\n",
    "results_path = os.path.join(RESULTS_DIR, \"results.json\")\n",
    "with open(results_path, \"w\") as f:\n",
    "    f.write(\"Save evaluation metrics here.\")\n",
    "\n",
    "print(f\"Results saved to {results_path}\")"
   ]
  }
 ],
 "metadata": {
  "kernelspec": {
   "display_name": "ed-venv",
   "language": "python",
   "name": "python3"
  },
  "language_info": {
   "codemirror_mode": {
    "name": "ipython",
    "version": 3
   },
   "file_extension": ".py",
   "mimetype": "text/x-python",
   "name": "python",
   "nbconvert_exporter": "python",
   "pygments_lexer": "ipython3",
   "version": "3.10.0"
  }
 },
 "nbformat": 4,
 "nbformat_minor": 2
}
